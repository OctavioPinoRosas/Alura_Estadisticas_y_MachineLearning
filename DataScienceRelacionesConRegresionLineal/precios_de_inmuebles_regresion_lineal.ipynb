{
  "cells": [
    {
      "cell_type": "markdown",
      "metadata": {
        "colab_type": "text",
        "id": "view-in-github"
      },
      "source": [
        "<a href=\"https://colab.research.google.com/github/ahcamachod/2145-data-science-probando-relaciones-con-regresion-lineal/blob/main/precios_de_inmuebles_regresion_lineal.ipynb\" target=\"_parent\"><img src=\"https://colab.research.google.com/assets/colab-badge.svg\" alt=\"Open In Colab\"/></a>"
      ]
    },
    {
      "cell_type": "markdown",
      "metadata": {
        "id": "y9t7dNY5fnHs"
      },
      "source": [
        "# **Precificación inmobiliaria**\n",
        "\n",
        "**Objetivo**: Estimar los precios de los inmuebles.\n",
        " * Identificar los aspectos que tienen más influencia en la precificación de los inmuebles.\n",
        " * Entender cuál de todos estos aspectos es el más relevante.\n",
        " * Precificar un inmueble nuevo.\n",
        "\n",
        "Base de datos simplificada e inspirada en [House Prices](https://www.kaggle.com/competitions/house-prices-advanced-regression-techniques)\n",
        "\n",
        "\n",
        "\n",
        "![](https://i.imgur.com/A8X79yq.jpeg)\n"
      ]
    },
    {
      "cell_type": "markdown",
      "metadata": {
        "id": "erMyEu5QyaSY"
      },
      "source": [
        "# 1. Ajustando una recta"
      ]
    },
    {
      "cell_type": "markdown",
      "metadata": {
        "id": "k2xsBplH-ccj"
      },
      "source": [
        "## Conociendo los datos"
      ]
    },
    {
      "cell_type": "code",
      "execution_count": 2,
      "metadata": {
        "id": "j2kddk1QofRy"
      },
      "outputs": [
        {
          "data": {
            "text/html": [
              "<div>\n",
              "<style scoped>\n",
              "    .dataframe tbody tr th:only-of-type {\n",
              "        vertical-align: middle;\n",
              "    }\n",
              "\n",
              "    .dataframe tbody tr th {\n",
              "        vertical-align: top;\n",
              "    }\n",
              "\n",
              "    .dataframe thead th {\n",
              "        text-align: right;\n",
              "    }\n",
              "</style>\n",
              "<table border=\"1\" class=\"dataframe\">\n",
              "  <thead>\n",
              "    <tr style=\"text-align: right;\">\n",
              "      <th></th>\n",
              "      <th>Id</th>\n",
              "      <th>area_primer_piso</th>\n",
              "      <th>tiene_segundo_piso</th>\n",
              "      <th>area_segundo_piso</th>\n",
              "      <th>cantidad_banos</th>\n",
              "      <th>capacidad_carros_garage</th>\n",
              "      <th>calidad_de_cocina_excelente</th>\n",
              "      <th>precio_de_venta</th>\n",
              "    </tr>\n",
              "  </thead>\n",
              "  <tbody>\n",
              "    <tr>\n",
              "      <th>0</th>\n",
              "      <td>1</td>\n",
              "      <td>79.5224</td>\n",
              "      <td>1</td>\n",
              "      <td>79.3366</td>\n",
              "      <td>2</td>\n",
              "      <td>548</td>\n",
              "      <td>0</td>\n",
              "      <td>1027905.0</td>\n",
              "    </tr>\n",
              "    <tr>\n",
              "      <th>1</th>\n",
              "      <td>2</td>\n",
              "      <td>117.2398</td>\n",
              "      <td>0</td>\n",
              "      <td>0.0000</td>\n",
              "      <td>2</td>\n",
              "      <td>460</td>\n",
              "      <td>0</td>\n",
              "      <td>894795.0</td>\n",
              "    </tr>\n",
              "  </tbody>\n",
              "</table>\n",
              "</div>"
            ],
            "text/plain": [
              "   Id  area_primer_piso  tiene_segundo_piso  area_segundo_piso  \\\n",
              "0   1           79.5224                   1            79.3366   \n",
              "1   2          117.2398                   0             0.0000   \n",
              "\n",
              "   cantidad_banos  capacidad_carros_garage  calidad_de_cocina_excelente  \\\n",
              "0               2                      548                            0   \n",
              "1               2                      460                            0   \n",
              "\n",
              "   precio_de_venta  \n",
              "0        1027905.0  \n",
              "1         894795.0  "
            ]
          },
          "execution_count": 2,
          "metadata": {},
          "output_type": "execute_result"
        }
      ],
      "source": [
        "#Leyendo los datos\n",
        "import pandas as pd\n",
        "\n",
        "datos = pd.read_csv('DataBase/precios_casas.csv')\n",
        "datos.head(2)"
      ]
    },
    {
      "cell_type": "code",
      "execution_count": 3,
      "metadata": {
        "id": "ODdLbwgwmKB4"
      },
      "outputs": [
        {
          "name": "stdout",
          "output_type": "stream",
          "text": [
            "<class 'pandas.core.frame.DataFrame'>\n",
            "RangeIndex: 1438 entries, 0 to 1437\n",
            "Data columns (total 8 columns):\n",
            " #   Column                       Non-Null Count  Dtype  \n",
            "---  ------                       --------------  -----  \n",
            " 0   Id                           1438 non-null   int64  \n",
            " 1   area_primer_piso             1438 non-null   float64\n",
            " 2   tiene_segundo_piso           1438 non-null   int64  \n",
            " 3   area_segundo_piso            1438 non-null   float64\n",
            " 4   cantidad_banos               1438 non-null   int64  \n",
            " 5   capacidad_carros_garage      1438 non-null   int64  \n",
            " 6   calidad_de_cocina_excelente  1438 non-null   int64  \n",
            " 7   precio_de_venta              1438 non-null   float64\n",
            "dtypes: float64(3), int64(5)\n",
            "memory usage: 90.0 KB\n"
          ]
        }
      ],
      "source": [
        "#Cuáles factores fueron colectados\n",
        "datos.info()"
      ]
    },
    {
      "cell_type": "code",
      "execution_count": 4,
      "metadata": {
        "id": "Fx5C-rYjpNsa"
      },
      "outputs": [
        {
          "data": {
            "text/plain": [
              "Index(['Id', 'area_primer_piso', 'tiene_segundo_piso', 'area_segundo_piso',\n",
              "       'cantidad_banos', 'capacidad_carros_garage',\n",
              "       'calidad_de_cocina_excelente', 'precio_de_venta'],\n",
              "      dtype='object')"
            ]
          },
          "execution_count": 4,
          "metadata": {},
          "output_type": "execute_result"
        }
      ],
      "source": [
        "# Eliminar columna 'Id'\n",
        "datos.drop(columns='Id')\n",
        "datos.columns"
      ]
    },
    {
      "cell_type": "markdown",
      "metadata": {
        "id": "m47fyV-TskS8"
      },
      "source": [
        "## Correlación\n",
        "\n",
        "**¿Cuáles factores están relacionados con el precio de la casa? ¿Cómo es esa relación?**\n",
        "\n",
        "El coeficiente de correlación de Pearson nos permite medir la relación lineal entre variables, ofreciendo una escala que varía de -1 a 1, la cual interpretamos según su intensidad y dirección:\n",
        "\n",
        "* **-1**: correlación negativa perfecta: a medida que una variable aumenta, la otra disminuye.  \n",
        "* **0**: no hay relación lineal entre las variables.  \n",
        "* **1**: correlación positiva perfecta: a medida que una variable aumenta, la otra también aumenta.  \n",
        "\n"
      ]
    },
    {
      "cell_type": "code",
      "execution_count": 5,
      "metadata": {
        "id": "u4H8rN9RqOVL"
      },
      "outputs": [],
      "source": [
        "# Correlación\n",
        "corr = datos.corr()"
      ]
    },
    {
      "cell_type": "code",
      "execution_count": 6,
      "metadata": {
        "id": "EsNfQ6ghqcAq"
      },
      "outputs": [
        {
          "data": {
            "text/plain": [
              "Id                            -0.024351\n",
              "area_primer_piso               0.616557\n",
              "tiene_segundo_piso             0.138541\n",
              "area_segundo_piso              0.305311\n",
              "cantidad_banos                 0.563132\n",
              "capacidad_carros_garage        0.640214\n",
              "calidad_de_cocina_excelente    0.496223\n",
              "precio_de_venta                1.000000\n",
              "Name: precio_de_venta, dtype: float64"
            ]
          },
          "execution_count": 6,
          "metadata": {},
          "output_type": "execute_result"
        }
      ],
      "source": [
        "corr['precio_de_venta']"
      ]
    },
    {
      "cell_type": "code",
      "execution_count": 7,
      "metadata": {
        "id": "grbenA73mKGp"
      },
      "outputs": [
        {
          "data": {
            "image/png": "[encoded data removed]",
            "text/plain": [
              "<Figure size 1100x900 with 2 Axes>"
            ]
          },
          "metadata": {},
          "output_type": "display_data"
        }
      ],
      "source": [
        "# Actividad\n",
        "# Cuáles factores están más correlacionados?\n",
        "import pandas as pd\n",
        "import numpy as np\n",
        "import matplotlib.pyplot as plt\n",
        "import seaborn as sns\n",
        "# Generar una máscara para el triángulo superior\n",
        "mascara = np.zeros_like(corr, dtype=bool)\n",
        "mascara[np.triu_indices_from(mascara)] = True\n",
        "\n",
        "# Configurar la figura de matplotlib\n",
        "f, ax = plt.subplots(figsize=(11, 9))\n",
        "\n",
        "# Generar el mapa de calor (heatmap)\n",
        "cmap = sns.diverging_palette(220, 10, as_cmap=True)\n",
        "\n",
        "sns.heatmap(corr, mask=mascara, cmap=cmap, vmax=1, vmin=-1, center=0,\n",
        "            square=True, linewidths=.5, annot=True, cbar_kws={\"shrink\": .5})\n",
        "\n",
        "# Mostrar el mapa de calor (heatmap)\n",
        "plt.show()"
      ]
    },
    {
      "cell_type": "markdown",
      "metadata": {
        "id": "ICnyF93ko09b"
      },
      "source": [
        "## Relacionando variables"
      ]
    },
    {
      "cell_type": "code",
      "execution_count": 8,
      "metadata": {
        "id": "5ugjBgZxsUyh"
      },
      "outputs": [],
      "source": [
        "# importando los paquetes para la visualización\n",
        "import matplotlib.pyplot as plt\n",
        "import seaborn as sns\n",
        "import plotly.express as px"
      ]
    },
    {
      "cell_type": "code",
      "execution_count": 9,
      "metadata": {
        "id": "inoJird2mKJm"
      },
      "outputs": [
        {
          "data": {
            "image/png": "[encoded data removed]",
            "text/plain": [
              "<Figure size 640x480 with 1 Axes>"
            ]
          },
          "metadata": {},
          "output_type": "display_data"
        }
      ],
      "source": [
        "# Cómo se relacionan el área construída y el precio del inmueble?\n",
        "plt.scatter(datos['area_primer_piso'],datos['precio_de_venta'])\n",
        "plt.title('Relación entre el precio y el área')\n",
        "plt.xlabel('Área en m2')\n",
        "plt.ylabel('Precio en USD')\n",
        "plt.show()"
      ]
    },
    {
      "cell_type": "code",
      "execution_count": 10,
      "metadata": {
        "id": "RJXgcH6HuAix"
      },
      "outputs": [
        {
          "data": {
            "image/png": "[encoded data removed]",
            "text/plain": [
              "<Figure size 640x480 with 1 Axes>"
            ]
          },
          "metadata": {},
          "output_type": "display_data"
        }
      ],
      "source": [
        "# Aparentemente mientras mayor es el área del primer piso, mayor es el precio de la casa.\n",
        "# E si quisieramos trazar una línea que nos permita describir este comportamiento?\n",
        "plt.scatter(datos['area_primer_piso'],datos['precio_de_venta'])\n",
        "plt.axline(xy1=(40,300000),xy2=(175,1500000),color='red')\n",
        "plt.title('Relación entre el precio y el área')\n",
        "plt.xlabel('Área en m2')\n",
        "plt.ylabel('Precio en USD')\n",
        "plt.show()"
      ]
    },
    {
      "cell_type": "markdown",
      "metadata": {
        "id": "m8FFVV3FsuOh"
      },
      "source": [
        "## Mejor recta"
      ]
    },
    {
      "cell_type": "code",
      "execution_count": 11,
      "metadata": {
        "id": "1gDwrX_KvS_9"
      },
      "outputs": [
        {
          "data": {
            "application/vnd.plotly.v1+json": {
              "config": {
                "plotlyServerURL": "https://plot.ly"
              },
              "data": [
                {
                  "hovertemplate": "area_primer_piso=%{x}<br>precio_de_venta=%{y}<extra></extra>",
                  "legendgroup": "",
                  "marker": {
                    "color": "#636efa",
                    "symbol": "circle"
                  },
                  "mode": "markers",
                  "name": "",
                  "showlegend": false,
                  "type": "scattergl",
                  "x": {
                    "bdata": "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",
                    "dtype": "f8"
                  },
                  "xaxis": "x",
                  "y": {
                    "bdata": "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",
                    "dtype": "f8"
                  },
                  "yaxis": "y"
                },
                {
                  "hovertemplate": "<b>OLS trendline</b><br>precio_de_venta = 6899.2 * area_primer_piso + 144777<br>R<sup>2</sup>=0.380142<br><br>area_primer_piso=%{x}<br>precio_de_venta=%{y} <b>(trend)</b><extra></extra>",
                  "legendgroup": "",
                  "line": {
                    "color": "red"
                  },
                  "marker": {
                    "color": "#636efa",
                    "symbol": "circle"
                  },
                  "mode": "lines",
                  "name": "",
                  "showlegend": false,
                  "type": "scattergl",
                  "x": {
                    "bdata": "ZapgVFIHP0CdgCbChkdBQH/ZPXlYWERAsp3vp8ZLRkBIUPwYc29GQEhQ/Bhzb0ZASFD8GHNvRkBIUPwYc29GQEhQ/Bhzb0ZASFD8GHNvRkBIUPwYc29GQKAaL90k/kZAgZVDi2wnSECBlUOLbCdIQIGVQ4tsJ0hAgZVDi2wnSECBlUOLbCdIQHsUrkfhYkhArfpcbcVuSECh+DHmruVIQJT2Bl+YXElAlPYGX5hcSUCU9gZfmFxJQI51cRsNmElAgnNGlPYOSkCoV8oyxJFKQKhXyjLEkUpAPQrXo3C1SkBv8IXJVMFKQGlv8IXJ/EpAV+wvuyevS0AfhetRuN5LQB+F61G43ktAGQRWDi0aTEB2Tx4Wam1MQHZPHhZqbUxAPujZrPqcTEA+6Nms+pxMQD7o2az6nExAPujZrPqcTEA+6Nms+pxMQM4ZUdob/ExAzhlR2hv8TEAAAAAAAAhNQAAAAAAACE1AMuauJeQTTUD6fmq8dENNQPp+arx0Q01A+n5qvHRDTUD6fmq8dENNQPp+arx0Q01A+n5qvHRDTUD6fmq8dENNQPp+arx0Q01A+n5qvHRDTUCvlGWIYyVOQHGsi9tokE5A1XjpJjGoTkDVeOkmMahOQAdfmEwVtE5Aayv2l93LTkCdEaW9wddOQC1DHOviNk9ALUMc6+I2T0AtQxzr4jZPQC1DHOviNk9ALUMc6+I2T0AtQxzr4jZPQC1DHOviNk9ALUMc6+I2T0AtQxzr4jZPQC1DHOviNk9ALUMc6+I2T0BfKcsQx0JPQPXb14FzZk9Aio7k8h+KT0C8dJMYBJZPQCBB8WPMrU9AhA1Pr5TFT0CEDU+vlMVPQIQNT6+UxU9A6Nms+lzdT0A/xty1hABQQD/G3LWEAFBAcayL22gMUEBxrIvbaAxQQKOSOgFNGFBAvAUSFD8eUEC8BRIUPx5QQLwFEhQ/HlBA7uvAOSMqUEAHX5hMFTBQQAdfmEwVMFBAINJvXwc2UEAg0m9fBzZQQCDSb18HNlBAINJvXwc2UEAg0m9fBzZQQISezarPTVBAnRGlvcFTUEAB3gIJimtQQAHeAgmKa1BAGlHaG3xxUEAaUdobfHFQQJeQD3o2j1BA4umVsgyhUEDi6ZWyDKFQQEW28/3UuFBARbbz/dS4UEBFtvP91LhQQEW28/3UuFBARbbz/dS4UEBFtvP91LhQQML1KFyP1lBAwvUoXI/WUEANT6+UZehQQA1Pr5Rl6FBADU+vlGXoUEANT6+UZehQQA1Pr5Rl6FBADU+vlGXoUEAmwoanV+5QQCbChqdX7lBAJsKGp1fuUECjAbwFEgxRQKMBvAUSDFFAvHSTGAQSUUC8dJMYBBJRQNXnaiv2F1FAB84ZUdojUUBSJ6CJsDVRQGuad5yiO1FAa5p3nKI7UUBrmnecojtRQOjZrPpcWVFA6Nms+lxZUUAzMzMzM2tRQEymCkYlcVFAZRniWBd3UUB+jLlrCX1RQJf/kH77glFAsHJoke2IUUDJ5T+k345RQMnlP6TfjlFAyeU/pN+OUUDJ5T+k345RQOJYF7fRlFFA4lgXt9GUUUAtsp3vp6ZRQJF++zpwvlFAkX77OnC+UUCRfvs6cL5RQJF++zpwvlFAkX77OnC+UUCRfvs6cL5RQKrx0k1ixFFAqvHSTWLEUUDc14FzRtBRQPVKWYY41lFA9UpZhjjWUUD1SlmGONZRQPVKWYY41lFA9UpZhjjWUUAOvjCZKtxRQA6+MJkq3FFAJzEIrBziUUBZF7fRAO5RQHKKjuTy81FAcoqO5PLzUUByio7k8vNRQIv9Zffk+VFAi/1l9+T5UUCL/WX35PlRQIv9Zffk+VFAi/1l9+T5UUDvycNCrRFSQO/Jw0KtEVJACD2bVZ8XUkAIPZtVnxdSQCGwcmiRHVJAIbByaJEdUkAhsHJokR1SQCGwcmiRHVJAIbByaJEdUkBsCfmgZy9SQIV80LNZNVJAhXzQs1k1UkC2Yn/ZPUFSQLZif9k9QVJA6Egu/yFNUkDoSC7/IU1SQAG8BRIUU1JAAbwFEhRTUkAaL90kBllSQBov3SQGWVJATBWMSupkUkBMFYxK6mRSQEwVjErqZFJAZYhjXdxqUkB++zpwznBSQLDh6ZWyfFJAsOHplbJ8UkCw4emVsnxSQLDh6ZWyfFJAsOHplbJ8UkDix5i7lohSQOLHmLuWiFJA4seYu5aIUkDix5i7lohSQOLHmLuWiFJA+zpwzoiOUkAUrkfhepRSQBSuR+F6lFJARpT2Bl+gUkBGlPYGX6BSQF8HzhlRplJAXwfOGVGmUkB4eqUsQ6xSQHh6pSxDrFJAeHqlLEOsUkB4eqUsQ6xSQHh6pSxDrFJAqmBUUie4UkDD0ytlGb5SQMPTK2UZvlJA3EYDeAvEUkDcRgN4C8RSQNxGA3gLxFJADi2yne/PUkAOLbKd789SQA4tsp3vz1JADi2yne/PUkAnoImw4dVSQCegibDh1VJAQBNhw9PbUkBZhjjWxeFSQHL5D+m351JAi2zn+6ntUkCk374OnPNSQKTfvg6c81JApN++DpzzUkCk374OnPNSQKTfvg6c81JApN++DpzzUkCk374OnPNSQKTfvg6c81JApN++DpzzUkDWxW00gP9SQAisHFpkC1NACKwcWmQLU0A6kst/SBdTQGx4eqUsI1NAhetRuB4pU0CF61G4HilTQLfRAN4CNVNAt9EA3gI1U0Dpt68D50BTQBueXinLTFNANBE2PL1SU0A0ETY8vVJTQDQRNjy9UlNANBE2PL1SU0A0ETY8vVJTQDQRNjy9UlNANBE2PL1SU0BNhA1Pr1hTQE2EDU+vWFNATYQNT69YU0B/arx0k2RTQMrDQq1pdlNA/Knx0k2CU0D8qfHSTYJTQPyp8dJNglNA/Knx0k2CU0D8qfHSTYJTQPyp8dJNglNAFR3J5T+IU0AVHcnlP4hTQC6QoPgxjlNAeekmMQigU0B56SYxCKBTQJJc/kP6pVNAq8/VVuyrU0Crz9VW7KtTQKvP1Vbsq1NAq8/VVuyrU0DEQq1p3rFTQMRCrWnesVNAxEKtad6xU0DEQq1p3rFTQMRCrWnesVNAxEKtad6xU0DEQq1p3rFTQMRCrWnesVNAxEKtad6xU0DEQq1p3rFTQMRCrWnesVNAxEKtad6xU0DdtYR80LdTQA+cM6K0w1NAWfW52orVU0BZ9bnaitVTQHJoke1821NAcmiR7XzbU0ByaJHtfNtTQHJoke1821NAi9toAG/hU0C9wRcmU+1TQL3BFyZT7VNAvcEXJlPtU0C9wRcmU+1TQL3BFyZT7VNA1jTvOEXzU0Dvp8ZLN/lTQO+nxks3+VNA76fGSzf5U0Dvp8ZLN/lTQAgbnl4p/1NAU3Qkl/8QVEBTdCSX/xBUQFN0JJf/EFRAU3Qkl/8QVEBTdCSX/xBUQFN0JJf/EFRAU3Qkl/8QVEBTdCSX/xBUQFN0JJf/EFRAU3Qkl/8QVEBTdCSX/xBUQFN0JJf/EFRAU3Qkl/8QVEBTdCSX/xBUQFN0JJf/EFRAU3Qkl/8QVEBTdCSX/xBUQFN0JJf/EFRAU3Qkl/8QVEBTdCSX/xBUQFN0JJf/EFRAU3Qkl/8QVEBTdCSX/xBUQFN0JJf/EFRAU3Qkl/8QVEBs5/up8RZUQIVa07zjHFRAhVrTvOMcVECFWtO84xxUQIVa07zjHFRA0LNZ9bkuVEDQs1n1uS5UQBsN4C2QQFRAGw3gLZBAVEBN845TdExUQE3zjlN0TFRATfOOU3RMVEBmZmZmZlJUQH/ZPXlYWFRAf9k9eVhYVECYTBWMSl5UQMoyxLEualRA46WbxCBwVEDjpZvEIHBUQBWMSuoEfFRAFYxK6gR8VEAVjErqBHxUQBWMSuoEfFRAFYxK6gR8VEAVjErqBHxUQEdy+Q/ph1RAR3L5D+mHVEBHcvkP6YdUQEdy+Q/ph1RAYOXQItuNVEB5WKg1zZNUQJLLf0i/mVRAqz5XW7GfVECrPldbsZ9UQKs+V1uxn1RAxLEubqOlVEAPC7WmebdUQA8LtaZ5t1RADwu1pnm3VEAPC7WmebdUQCh+jLlrvVRAQfFjzF3DVEBB8WPMXcNUQEHxY8xdw1RAQfFjzF3DVEBB8WPMXcNUQEHxY8xdw1RAQfFjzF3DVEBB8WPMXcNUQEHxY8xdw1RAQfFjzF3DVEBB8WPMXcNUQEHxY8xdw1RAc9cS8kHPVEBz1xLyQc9UQIxK6gQ01VRAvjCZKhjhVEDXo3A9CudUQNejcD0K51RA16NwPQrnVEDXo3A9CudUQPAWSFD87FRA8BZIUPzsVEDwFkhQ/OxUQAmKH2Pu8lRACYofY+7yVEAJih9j7vJUQAmKH2Pu8lRAO3DOiNL+VEA7cM6I0v5UQDtwzojS/lRAVOOlm8QEVUCGyVTBqBBVQJ88LNSaFlVAuK8D54wcVUDRItv5fiJVQNEi2/l+IlVA0SLb+X4iVUADCYofYy5VQAMJih9jLlVAAwmKH2MuVUADCYofYy5VQAMJih9jLlVAAwmKH2MuVUADCYofYy5VQAMJih9jLlVAAwmKH2MuVUADCYofYy5VQAMJih9jLlVAAwmKH2MuVUADCYofYy5VQAMJih9jLlVAHHxhMlU0VUA17zhFRzpVQE5iEFg5QFVAZ9XnaitGVUBn1edqK0ZVQGfV52orRlVAmbuWkA9SVUCZu5aQD1JVQJm7lpAPUlVAy6FFtvNdVUDLoUW2811VQBX7y+7Jb1VAFfvL7slvVUAubqMBvHVVQEfhehSue1VAR+F6FK57VUBgVFInoIFVQGBUUieggVVAeccpOpKHVUCSOgFNhI1VQJI6AU2EjVVAkjoBTYSNVUCSOgFNhI1VQKut2F92k1VAxCCwcmiZVUD2Bl+YTKVVQPYGX5hMpVVAD3o2qz6rVUBBYOXQIrdVQFrTvOMUvVVAWtO84xS9VUBa07zjFL1VQFrTvOMUvVVAWtO84xS9VUBa07zjFL1VQFrTvOMUvVVAjLlrCfnIVUCMuWsJ+chVQKUsQxzrzlVApSxDHOvOVUDXEvJBz9pVQAn5oGez5lVACfmgZ7PmVUAJ+aBns+ZVQCJseHql7FVAImx4eqXsVUAibHh6pexVQIY41sVtBFZAhjjWxW0EVkCGONbFbQRWQIY41sVtBFZAhjjWxW0EVkCfq63YXwpWQLgehetREFZAuB6F61EQVkDRkVz+QxZWQOoENBE2HFZA6gQ0ETYcVkDqBDQRNhxWQOoENBE2HFZAA3gLJCgiVkADeAskKCJWQBzr4jYaKFZAHOviNhooVkAc6+I2GihWQDVeukkMLlZANV66SQwuVkBO0ZFc/jNWQE7RkVz+M1ZAgLdAguI/VkCAt0CC4j9WQIC3QILiP1ZAgLdAguI/VkCAt0CC4j9WQJkqGJXURVZAmSoYldRFVkCyne+nxktWQLKd76fGS1ZAsp3vp8ZLVkCyne+nxktWQLKd76fGS1ZAsp3vp8ZLVkCyne+nxktWQMsQx7q4UVZAyxDHurhRVkDkg57NqldWQP32deCcXVZAFmpN845jVkAWak3zjmNWQC/dJAaBaVZASFD8GHNvVkB6Nqs+V3tWQHo2qz5Xe1ZAejarPld7VkCTqYJRSYFWQKwcWmQ7h1ZArBxaZDuHVkCsHFpkO4dWQKwcWmQ7h1ZAxY8xdy2NVkDeAgmKH5NWQN4CCYofk1ZAEOm3rwOfVkApXI/C9aRWQELPZtXnqlZAQs9m1eeqVkBCz2bV56pWQFtCPujZsFZAjSjtDb68VkCNKO0NvrxWQI0o7Q2+vFZAppvEILDCVkCmm8QgsMJWQKabxCCwwlZAppvEILDCVkCmm8QgsMJWQL8OnDOiyFZAvw6cM6LIVkDx9EpZhtRWQPH0SlmG1FZA8fRKWYbUVkAKaCJseNpWQCPb+X5q4FZAPE7RkVzmVkBuNIC3QPJWQG40gLdA8lZAbjSAt0DyVkBuNIC3QPJWQG40gLdA8lZAh6dXyjL4VkCgGi/dJP5WQKAaL90k/lZAoBov3ST+VkCgGi/dJP5WQKAaL90k/lZAoBov3ST+VkC5jQbwFgRXQNIA3gIJCldA63O1FfsPV0Drc7UV+w9XQDbNO07RIVdANs07TtEhV0BPQBNhwydXQE9AE2HDJ1dAT0ATYcMnV0Bos+pztS1XQIEmwoanM1dAgSbChqczV0CBJsKGpzNXQLMMcayLP1dAswxxrIs/V0DMf0i/fUVXQMx/SL99RVdA5fIf0m9LV0D+ZffkYVFXQP5l9+RhUVdA/mX35GFRV0D+ZffkYVFXQBfZzvdTV1dAF9nO91NXV0AX2c73U1dXQDBMpgpGXVdAMEymCkZdV0AwTKYKRl1XQEi/fR04Y1dAYTJVMCppV0BhMlUwKmlXQGEyVTAqaVdAkxgEVg51V0DF/rJ78oBXQMX+snvygFdA3nGKjuSGV0D35GGh1oxXQPfkYaHWjFdAEFg5tMiSV0CNl24Sg7BXQI2XbhKDsFdApgpGJXW2V0C/fR04Z7xXQL99HThnvFdAv30dOGe8V0C/fR04Z7xXQPFjzF1LyFdAI0p7gy/UV0AjSnuDL9RXQCNKe4Mv1FdAI0p7gy/UV0AjSnuDL9RXQFUwKqkT4FdAVTAqqRPgV0BuowG8BeZXQLn8h/Tb91dAufyH9Nv3V0C5/If02/dXQOviNhrAA1hABFYOLbIJWEAdyeU/pA9YQE+vlGWIG1hAaCJseHohWECBlUOLbCdYQIGVQ4tsJ1hAgZVDi2wnWECBlUOLbCdYQIGVQ4tsJ1hAgZVDi2wnWECBlUOLbCdYQIGVQ4tsJ1hAgZVDi2wnWECBlUOLbCdYQIGVQ4tsJ1hAgZVDi2wnWECBlUOLbCdYQIGVQ4tsJ1hAgZVDi2wnWECBlUOLbCdYQJoIG55eLVhAmggbnl4tWECze/KwUDNYQOVhodY0P1hAMLsnDwtRWEBJLv8h/VZYQEku/yH9VlhASS7/If1WWEBJLv8h/VZYQHsUrkfhYlhAexSuR+FiWEB7FK5H4WJYQHsUrkfhYlhAlIeFWtNoWECt+lxtxW5YQK36XG3FblhArfpcbcVuWEDGbTSAt3RYQMZtNIC3dFhAxm00gLd0WEDGbTSAt3RYQN/gC5OpelhA3+ALk6l6WED4U+Olm4BYQPhT46WbgFhAEce6uI2GWEARx7q4jYZYQBHHuriNhlhAEce6uI2GWEARx7q4jYZYQBHHuriNhlhAKjqSy3+MWEAqOpLLf4xYQCo6kst/jFhAKjqSy3+MWEBDrWnecZJYQHWTGARWnlhAdZMYBFaeWEB1kxgEVp5YQI4G8BZIpFhAp3nHKTqqWECneccpOqpYQMDsnjwssFhA2V92Tx62WEDy0k1iELxYQPLSTWIQvFhAJLn8h/THWEAkufyH9MdYQD0s1JrmzVhAVp+rrdjTWEBWn6ut2NNYQIiFWtO831hAofgx5q7lWECh+DHmruVYQKH4Meau5VhAofgx5q7lWECh+DHmruVYQLprCfmg61hAumsJ+aDrWEDT3uALk/FYQOxRuB6F91hAHThnRGkDWUAdOGdEaQNZQB04Z0RpA1lANqs+V1sJWUA2qz5XWwlZQE8eFmpND1lAaJHtfD8VWUBoke18PxVZQGiR7Xw/FVlAaJHtfD8VWUBoke18PxVZQJp3nKIjIVlAmnecoiMhWUDl0CLb+TJZQP5D+u3rOFlA/kP67es4WUD+Q/rt6zhZQP5D+u3rOFlAMCqpE9BEWUAwKqkT0ERZQDAqqRPQRFlAMCqpE9BEWUAwKqkT0ERZQEmdgCbCSllAYhBYObRQWUB7gy9MplZZQJT2Bl+YXFlAlPYGX5hcWUCU9gZfmFxZQJT2Bl+YXFlAxty1hHxoWUDG3LWEfGhZQN9PjZdubllA30+Nl25uWUDfT42Xbm5ZQPjCZKpgdFlA+MJkqmB0WUD4wmSqYHRZQBE2PL1SellAETY8vVJ6WUARNjy9UnpZQCqpE9BEgFlAKqkT0ESAWUAqqRPQRIBZQEMc6+I2hllAXI/C9SiMWUCn6Egu/51ZQMBbIEHxo1lA2c73U+OpWUALtaZ5x7VZQCQofoy5u1lAJCh+jLm7WUBWDi2yncdZQIj029eB01lAiPTb14HTWUCI9NvXgdNZQKFns+pz2VlAoWez6nPZWUChZ7Pqc9lZQLraiv1l31lAutqK/WXfWUDswDkjSutZQAU0ETY88VlAHqfoSC73WUAep+hILvdZQFCNl24SA1pAUI2XbhIDWkBQjZduEgNaQFCNl24SA1pAUI2XbhIDWkBpAG+BBAlaQGkAb4EECVpAgnNGlPYOWkCCc0aU9g5aQLRZ9bnaGlpAzczMzMwgWkDNzMzMzCBaQOY/pN++JlpA5j+k374mWkDmP6TfviZaQP+ye/KwLFpA/7J78rAsWkAYJlMFozJaQBgmUwWjMlpAGCZTBaMyWkAYJlMFozJaQEoMAiuHPlpASgwCK4c+WkBjf9k9eURaQHzysFBrSlpAfPKwUGtKWkCVZYhjXVBaQJVliGNdUFpArthfdk9WWkCu2F92T1ZaQK7YX3ZPVlpA4L4OnDNiWkDgvg6cM2JaQOC+DpwzYlpA4L4OnDNiWkD5MeauJWhaQPkx5q4laFpAEqW9wRduWkBEi2zn+3laQESLbOf7eVpAXf5D+u1/WkB2cRsN4IVaQHZxGw3ghVpAdnEbDeCFWkCP5PIf0otaQKhXyjLEkVpAqFfKMsSRWkCoV8oyxJFaQKhXyjLEkVpAqFfKMsSRWkDByqFFtpdaQMHKoUW2l1pA2T15WKidWkALJCh+jKlaQAskKH6MqVpACyQofoypWkAkl/+Qfq9aQCSX/5B+r1pAPQrXo3C1WkBv8IXJVMFaQG/whclUwVpAb/CFyVTBWkCIY13cRsdaQIhjXdxGx1pAodY07zjNWkC6SQwCK9NaQNO84xQd2VpABaOSOgHlWkAFo5I6AeVaQB4Wak3z6lpAN4lBYOXwWkA3iUFg5fBaQFD8GHPX9lpAguLHmLsCW0CC4seYuwJbQJtVn6utCFtAm1Wfq60IW0CbVZ+rrQhbQJtVn6utCFtAtMh2vp8OW0C0yHa+nw5bQM07TtGRFFtAzTtO0ZEUW0DNO07RkRRbQOauJeSDGltA5q4l5IMaW0D/If32dSBbQP8h/fZ1IFtAMQisHFosW0Bj7lpCPjhbQHxhMlUwPltArkfhehRKW0CuR+F6FEpbQPmgZ7PqW1tA+aBns+pbW0ArhxbZzmdbQCuHFtnOZ1tARPrt68BtW0BdbcX+snNbQF1txf6yc1tAj1N0JJd/W0DBOSNKe4tbQNqs+lxtkVtA8x/Sb1+XW0DzH9JvX5dbQPMf0m9fl1tA8x/Sb1+XW0AlBoGVQ6NbQCUGgZVDo1tAV+wvuyevW0CJ0t7gC7tbQInS3uALu1tAokW28/3AW0C7uI0G8MZbQLu4jQbwxltABhIUP8bYW0AfhetRuN5bQB+F61G43ltAH4XrUbjeW0AfhetRuN5bQB+F61G43ltAat5xio7wW0CDUUmdgPZbQM6qz9VWCFxA5x2n6EgOXEDnHafoSA5cQOcdp+hIDlxAGQRWDi0aXEAydy0hHyBcQEvqBDQRJlxAS+oENBEmXEBL6gQ0ESZcQH3Qs1n1MVxAfdCzWfUxXEB90LNZ9TFcQJZDi2znN1xArrZif9k9XECutmJ/2T1cQK62Yn/ZPVxAxyk6kstDXEDgnBGlvUlcQBKDwMqhVVxAEoPAyqFVXEASg8DKoVVcQCv2l92TW1xAK/aX3ZNbXEBEaW/whWFcQERpb/CFYVxAXdxGA3hnXEB2Tx4Wam1cQHZPHhZqbVxAdk8eFmptXECPwvUoXHNcQKg1zTtOeVxAqDXNO055XEDaG3xhMoVcQNobfGEyhVxA845TdCSLXEA+6Nms+pxcQD7o2az6nFxAcM6I0t6oXEBwzojS3qhcQIlBYOXQrlxAorQ3+MK0XECitDf4wrRcQKK0N/jCtFxAorQ3+MK0XECitDf4wrRcQNSa5h2nwFxABoGVQ4vMXEAf9GxWfdJcQDhnRGlv2FxAak3zjlPkXECcM6K0N/BcQJwzorQ38FxAtaZ5xyn2XEDOGVHaG/xcQOeMKO0NAl1AGXPXEvINXUAy5q4l5BNdQDLmriXkE11AMuauJeQTXUBLWYY41hldQEtZhjjWGV1AlrIMcawrXUDImLuWkDddQMiYu5aQN11AyJi7lpA3XUD6fmq8dENdQBPyQc9mSV1ALGUZ4lhPXUAsZRniWE9dQF5LyAc9W11AXkvIBz1bXUB3vp8aL2FdQJAxdy0hZ11AkDF3LSFnXUDCFyZTBXNdQMIXJlMFc11AwhcmUwVzXUDbiv1l93hdQNuK/WX3eF1AJuSDns2KXUBYyjLEsZZdQIqw4emVol1AirDh6ZWiXUCKsOHplaJdQKMjufyHqF1AoyO5/IeoXUDVCWgibLRdQAfwFkhQwF1AIGPuWkLGXUA51sVtNMxdQFJJnYAm0l1Aarx0kxjYXUCcoiO5/ONdQLUV+8vu6V1AAG+BBMX7XUAAb4EExftdQEvIBz2bDV5AS8gHPZsNXkB9rrZifxleQH2utmJ/GV5AliGOdXEfXkCvlGWIYyVeQK+UZYhjJV5AyAc9m1UrXkD67evAOTdeQPrt68A5N15A+u3rwDk3XkATYcPTKz1eQBNhw9MrPV5AE2HD0ys9XkBFR3L5D0leQHctIR/0VF5Ady0hH/RUXkB3LSEf9FReQHctIR/0VF5AwoanV8pmXkDb+X5qvGxeQNv5fmq8bF5AP8bctYSEXkA/xty1hIReQD/G3LWEhF5AP8bctYSEXkA/xty1hIReQHGsi9tokF5AcayL22iQXkCjkjoBTZxeQLwFEhQ/ol5A1XjpJjGoXkDVeOkmMaheQDlFR3L5v15AOUVHcvm/XkBSuB6F68VeQISezarP0V5AnRGlvcHXXkCdEaW9wddeQJ0Rpb3B115AnRGlvcHXXkAB3gIJiu9eQDPEsS5u+15AZapgVFIHX0B+HThnRA1fQH4dOGdEDV9Afh04Z0QNX0B+HThnRA1fQJeQD3o2E19Al5APejYTX0CwA+eMKBlfQLAD54woGV9AyXa+nxofX0DJdr6fGh9fQPtcbcX+Kl9ALUMc6+I2X0AtQxzr4jZfQC1DHOviNl9AqoJRSZ1UX0DD9Shcj1pfQMP1KFyPWl9A9dvXgXNmX0D129eBc2ZfQPXb14FzZl9AcRsN4C2EX0CKjuTyH4pfQIqO5PIfil9AvHSTGASWX0C8dJMYBJZfQLx0kxgEll9A1edqK/abX0DuWkI+6KFfQO5aQj7ooV9A7lpCPuihX0AHzhlR2qdfQAfOGVHap19AIEHxY8ytX0CEDU+vlMVfQIQNT6+UxV9AtvP91HjRX0C28/3UeNFfQLbz/dR40V9A6Nms+lzdX0Do2az6XN1fQDMzMzMz719AZRniWBf7X0A/xty1hABgQD/G3LWEAGBA5PIf0m8JYEBxrIvbaAxgQHGsi9toDGBA/WX35GEPYED9ZffkYQ9gQP1l9+RhD2BASL99HTghYEDVeOkmMSRgQGEyVTAqJ2BAYTJVMConYEDu68A5IypgQO7rwDkjKmBA7uvAOSMqYEDu68A5IypgQO7rwDkjKmBAB1+YTBUwYEBrK/aX3UdgQBBYObTIUGBAKcsQx7pWYEBbsb/snmJgQOhqK/aXZWBAAd4CCYprYEAB3gIJimtgQAHeAgmKa2BAGlHaG3xxYEC/fR04Z3pgQGWqYFRSg2BAZapgVFKDYEBlqmBUUoNgQGWqYFRSg2BAZapgVFKDYEDxY8xdS4ZgQArXo3A9jGBAl5APejaPYECwA+eMKJVgQLAD54wolWBAPL1SliGYYEDJdr6fGptgQFUwKqkTnmBAVTAqqROeYEDi6ZWyDKFgQPpcbcX+pmBAE9BE2PCsYEAT0ETY8KxgQKCJsOHpr2BAoImw4emvYEBFtvP91LhgQEW28/3UuGBARbbz/dS4YEBeKcsQx75gQF4pyxDHvmBAXinLEMe+YEBeKcsQx75gQARWDi2yx2BABFYOLbLHYEBoImx4et9gQGgibHh632BA9NvXgXPiYEAOT6+UZehgQLN78rBQ8WBAWKg1zTv6YEBxGw3gLQBhQHEbDeAtAGFA/tR46SYDYUCKjuTyHwZhQIqO5PIfBmFAio7k8h8GYUCjAbwFEgxhQKMBvAUSDGFAvHSTGAQSYUDV52or9hdhQGKh1jTvGmFAB84ZUdojYUAHzhlR2iNhQCBB8WPMKWFAIEHxY8wpYUAgQfFjzClhQK36XG3FLGFArfpcbcUsYUBSJ6CJsDVhQFInoImwNWFAa5p3nKI7YUBrmnecojthQGuad5yiO2FAhA1Pr5RBYUAqOpLLf0phQCo6kst/SmFAtvP91HhNYUBcIEHxY1ZhQOjZrPpcWWFA6Nms+lxZYUDo2az6XFlhQOjZrPpcWWFA6Nms+lxZYUABTYQNT19hQAFNhA1PX2FAGsBbIEFlYUAzMzMzM2thQDMzMzMza2FAMzMzMzNrYUDA7J48LG5hQEymCkYlcWFATKYKRiVxYUBlGeJYF3dhQGUZ4lgXd2FAZRniWBd3YUDx0k1iEHphQH6MuWsJfWFAfoy5awl9YUAKRiV1AoBhQCO5/If0hWFAyeU/pN+OYUD7y+7Jw5phQPvL7snDmmFAFD/G3LWgYUAUP8bctaBhQBQ/xty1oGFALbKd76emYUC5awn5oKlhQNLe4AuTr2FA7FG4HoW1YUB4CyQofrhhQKrx0k1ixGFAqvHSTWLEYUDDZKpgVMphQGiR7Xw/02FAaJHtfD/TYUBoke18P9NhQPVKWYY41mFAgQTFjzHZYUCz6nO1FeVhQLPqc7UV5WFAQKTfvg7oYUD+Q/rt6/ZhQIv9Zffk+WFAF7fRAN78YUC94xQdyQViQEmdgCbCCGJA1lbsL7sLYkBiEFg5tA5iQGIQWDm0DmJAe4MvTKYUYkCU9gZfmBpiQCGwcmiRHWJArWnecYogYkDG3LWEfCZiQGwJ+aBnL2JA+MJkqmAyYkD4wmSqYDJiQBE2PL1SOGJAKqkT0EQ+YkC2Yn/ZPUFiQLZif9k9QWJAQxzr4jZEYkDP1VbsL0diQFyPwvUoSmJAXI/C9ShKYkDoSC7/IU1iQAG8BRIUU2JAGi/dJAZZYkAaL90kBlliQDOitDf4XmJATBWMSupkYkBMFYxK6mRiQGWIY13camJAfvs6cM5wYkB++zpwznBiQD2bVZ+rf2JAFK5H4XqUYkAUrkfhepRiQKFns+pzl2JAoWez6nOXYkAtIR/0bJpiQEaU9gZfoGJAke18PzWyYkCR7Xw/NbJiQMPTK2UZvmJA3EYDeAvEYkDcRgN4C8RiQGkAb4EEx2JADi2yne/PYkAOLbKd789iQJvmHafo0mJAJ6CJsOHVYkBAE2HD09tiQM3MzMzM3mJA/7J78rDqYkD/snvysOpiQIts5/up7WJAi2zn+6ntYkCk374OnPNiQKTfvg6c82JAvVKWIY75YkDWxW00gP9iQNbFbTSA/2JACKwcWmQLY0A6kst/SBdjQDqSy39IF2NAUwWjkjodY0BTBaOSOh1jQFMFo5I6HWNA374OnDMgY0ARpb3BFyxjQJ5eKcsQL2NAnl4pyxAvY0CeXinLEC9jQLfRAN4CNWNA0ETY8PQ6Y0DQRNjw9DpjQNBE2PD0OmNAXP5D+u09Y0B1cRsN4ENjQAIrhxbZRmNAjuTyH9JJY0CO5PIf0kljQDQRNjy9UmNANBE2PL1SY0Bm9+RhoV5jQGb35GGhXmNAf2q8dJNkY0A9CtejcHNjQG/whclUf2NA/Knx0k2CY0D8qfHSTYJjQPyp8dJNgmNAFR3J5T+IY0AukKD4MY5jQEcDeAsklGNA07zjFB2XY0DsL7snD51jQOwvuycPnWNA7C+7Jw+dY0Crz9VW7KtjQKvP1Vbsq2NAq8/VVuyrY0DEQq1p3rFjQN21hHzQt2NAaW/whcm6Y0Bpb/CFybpjQPYoXI/CvWNA9ihcj8K9Y0CC4seYu8BjQA+cM6K0w2NAKA8LtabJY0DNO07RkdJjQOauJeSD2GNAcmiR7XzbY0ByaJHtfNtjQIvbaABv4WNAGJXUCWjkY0BKe4MvTPBjQNY07zhF82NA1jTvOEXzY0Bj7lpCPvZjQO+nxks3+WNAfGEyVTD8Y0AhjnVxGwVkQDoBTYQNC2RAU3Qkl/8QZEBTdCSX/xBkQFN0JJf/EGRAU3Qkl/8QZEBTdCSX/xBkQFN0JJf/EGRAEhQ/xtwfZECfzarP1SJkQJ/Nqs/VImRAn82qz9UiZEACmggbnjpkQAKaCBueOmRANIC3QIJGZEB/2T15WFhkQC7/If32gWRALv8h/faBZEBHcvkP6YdkQO2ePCzUkGRAqz5XW7GfZECrPldbsZ9kQFBrmnecqGRAtDf4wmTAZEBB8WPMXcNkQHPXEvJBz2RAGARWDi3YZEAYBFYOLdhkQNejcD0K52RA16NwPQrnZEDXo3A9CudkQGNd3EYD6mRAfdCzWfXvZEDgnBGlvQdlQBx8YTJVNGVANe84RUc6ZUDaG3xhMkNlQJm7lpAPUmVAmbuWkA9SZUCyLm6jAVhlQD7o2az6WmVA/If029dpZUD8h/Tb12llQPyH9NvXaWVALm6jAbx1ZUBH4XoUrntlQJI6AU2EjWVAnDOitDeuZUC1pnnHKbRlQFvTvOMUvWVAImx4eqXsZUCfq63YXwpmQNGRXP5DFmZAd76fGi8fZkDLEMe6uFFmQEhQ/Bhzb2ZArBxaZDuHZkCsHFpkO4dmQN4CCYofk2ZAGeJYF7e/ZkDx9EpZhtRmQApoImx42mZAyAc9m1XpZkBuNIC3QPJmQKAaL90k/mZAdy0hH/QSZ0A2zTtO0SFnQJqZmZmZOWdAmpmZmZk5Z0B6pSxDHG9nQJMYBFYOdWdAkxgEVg51Z0D35GGh1oxnQKYKRiV1tmdA2PD0SlnCZ0CwA+eMKNdnQHicoiO5BmhAeJyiI7kGaECqglFJnRJoQE+vlGWIG2hAs3vysFAzaEDV52or9lloQPhT46WbgGhAnYAmwoaJaEDPZtXnapVoQAFNhA1PoWhAZRniWBe5aEA9LNSa5s1oQDarPldbCWlATx4Wak0PaUAqqRPQRIBpQDSitDf4oGlAseHplbK+aUD7OnDOiNBpQAU0ETY88WlAvVKWIY47akBdbcX+snNrQLu4jQbwxmtAOPjCZKrka0A=",
                    "dtype": "f8"
                  },
                  "xaxis": "x",
                  "y": {
                    "bdata": "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",
                    "dtype": "f8"
                  },
                  "yaxis": "y"
                }
              ],
              "layout": {
                "legend": {
                  "tracegroupgap": 0
                },
                "margin": {
                  "t": 60
                },
                "template": {
                  "data": {
                    "bar": [
                      {
                        "error_x": {
                          "color": "#2a3f5f"
                        },
                        "error_y": {
                          "color": "#2a3f5f"
                        },
                        "marker": {
                          "line": {
                            "color": "#E5ECF6",
                            "width": 0.5
                          },
                          "pattern": {
                            "fillmode": "overlay",
                            "size": 10,
                            "solidity": 0.2
                          }
                        },
                        "type": "bar"
                      }
                    ],
                    "barpolar": [
                      {
                        "marker": {
                          "line": {
                            "color": "#E5ECF6",
                            "width": 0.5
                          },
                          "pattern": {
                            "fillmode": "overlay",
                            "size": 10,
                            "solidity": 0.2
                          }
                        },
                        "type": "barpolar"
                      }
                    ],
                    "carpet": [
                      {
                        "aaxis": {
                          "endlinecolor": "#2a3f5f",
                          "gridcolor": "white",
                          "linecolor": "white",
                          "minorgridcolor": "white",
                          "startlinecolor": "#2a3f5f"
                        },
                        "baxis": {
                          "endlinecolor": "#2a3f5f",
                          "gridcolor": "white",
                          "linecolor": "white",
                          "minorgridcolor": "white",
                          "startlinecolor": "#2a3f5f"
                        },
                        "type": "carpet"
                      }
                    ],
                    "choropleth": [
                      {
                        "colorbar": {
                          "outlinewidth": 0,
                          "ticks": ""
                        },
                        "type": "choropleth"
                      }
                    ],
                    "contour": [
                      {
                        "colorbar": {
                          "outlinewidth": 0,
                          "ticks": ""
                        },
                        "colorscale": [
                          [
                            0,
                            "#0d0887"
                          ],
                          [
                            0.1111111111111111,
                            "#46039f"
                          ],
                          [
                            0.2222222222222222,
                            "#7201a8"
                          ],
                          [
                            0.3333333333333333,
                            "#9c179e"
                          ],
                          [
                            0.4444444444444444,
                            "#bd3786"
                          ],
                          [
                            0.5555555555555556,
                            "#d8576b"
                          ],
                          [
                            0.6666666666666666,
                            "#ed7953"
                          ],
                          [
                            0.7777777777777778,
                            "#fb9f3a"
                          ],
                          [
                            0.8888888888888888,
                            "#fdca26"
                          ],
                          [
                            1,
                            "#f0f921"
                          ]
                        ],
                        "type": "contour"
                      }
                    ],
                    "contourcarpet": [
                      {
                        "colorbar": {
                          "outlinewidth": 0,
                          "ticks": ""
                        },
                        "type": "contourcarpet"
                      }
                    ],
                    "heatmap": [
                      {
                        "colorbar": {
                          "outlinewidth": 0,
                          "ticks": ""
                        },
                        "colorscale": [
                          [
                            0,
                            "#0d0887"
                          ],
                          [
                            0.1111111111111111,
                            "#46039f"
                          ],
                          [
                            0.2222222222222222,
                            "#7201a8"
                          ],
                          [
                            0.3333333333333333,
                            "#9c179e"
                          ],
                          [
                            0.4444444444444444,
                            "#bd3786"
                          ],
                          [
                            0.5555555555555556,
                            "#d8576b"
                          ],
                          [
                            0.6666666666666666,
                            "#ed7953"
                          ],
                          [
                            0.7777777777777778,
                            "#fb9f3a"
                          ],
                          [
                            0.8888888888888888,
                            "#fdca26"
                          ],
                          [
                            1,
                            "#f0f921"
                          ]
                        ],
                        "type": "heatmap"
                      }
                    ],
                    "histogram": [
                      {
                        "marker": {
                          "pattern": {
                            "fillmode": "overlay",
                            "size": 10,
                            "solidity": 0.2
                          }
                        },
                        "type": "histogram"
                      }
                    ],
                    "histogram2d": [
                      {
                        "colorbar": {
                          "outlinewidth": 0,
                          "ticks": ""
                        },
                        "colorscale": [
                          [
                            0,
                            "#0d0887"
                          ],
                          [
                            0.1111111111111111,
                            "#46039f"
                          ],
                          [
                            0.2222222222222222,
                            "#7201a8"
                          ],
                          [
                            0.3333333333333333,
                            "#9c179e"
                          ],
                          [
                            0.4444444444444444,
                            "#bd3786"
                          ],
                          [
                            0.5555555555555556,
                            "#d8576b"
                          ],
                          [
                            0.6666666666666666,
                            "#ed7953"
                          ],
                          [
                            0.7777777777777778,
                            "#fb9f3a"
                          ],
                          [
                            0.8888888888888888,
                            "#fdca26"
                          ],
                          [
                            1,
                            "#f0f921"
                          ]
                        ],
                        "type": "histogram2d"
                      }
                    ],
                    "histogram2dcontour": [
                      {
                        "colorbar": {
                          "outlinewidth": 0,
                          "ticks": ""
                        },
                        "colorscale": [
                          [
                            0,
                            "#0d0887"
                          ],
                          [
                            0.1111111111111111,
                            "#46039f"
                          ],
                          [
                            0.2222222222222222,
                            "#7201a8"
                          ],
                          [
                            0.3333333333333333,
                            "#9c179e"
                          ],
                          [
                            0.4444444444444444,
                            "#bd3786"
                          ],
                          [
                            0.5555555555555556,
                            "#d8576b"
                          ],
                          [
                            0.6666666666666666,
                            "#ed7953"
                          ],
                          [
                            0.7777777777777778,
                            "#fb9f3a"
                          ],
                          [
                            0.8888888888888888,
                            "#fdca26"
                          ],
                          [
                            1,
                            "#f0f921"
                          ]
                        ],
                        "type": "histogram2dcontour"
                      }
                    ],
                    "mesh3d": [
                      {
                        "colorbar": {
                          "outlinewidth": 0,
                          "ticks": ""
                        },
                        "type": "mesh3d"
                      }
                    ],
                    "parcoords": [
                      {
                        "line": {
                          "colorbar": {
                            "outlinewidth": 0,
                            "ticks": ""
                          }
                        },
                        "type": "parcoords"
                      }
                    ],
                    "pie": [
                      {
                        "automargin": true,
                        "type": "pie"
                      }
                    ],
                    "scatter": [
                      {
                        "fillpattern": {
                          "fillmode": "overlay",
                          "size": 10,
                          "solidity": 0.2
                        },
                        "type": "scatter"
                      }
                    ],
                    "scatter3d": [
                      {
                        "line": {
                          "colorbar": {
                            "outlinewidth": 0,
                            "ticks": ""
                          }
                        },
                        "marker": {
                          "colorbar": {
                            "outlinewidth": 0,
                            "ticks": ""
                          }
                        },
                        "type": "scatter3d"
                      }
                    ],
                    "scattercarpet": [
                      {
                        "marker": {
                          "colorbar": {
                            "outlinewidth": 0,
                            "ticks": ""
                          }
                        },
                        "type": "scattercarpet"
                      }
                    ],
                    "scattergeo": [
                      {
                        "marker": {
                          "colorbar": {
                            "outlinewidth": 0,
                            "ticks": ""
                          }
                        },
                        "type": "scattergeo"
                      }
                    ],
                    "scattergl": [
                      {
                        "marker": {
                          "colorbar": {
                            "outlinewidth": 0,
                            "ticks": ""
                          }
                        },
                        "type": "scattergl"
                      }
                    ],
                    "scattermap": [
                      {
                        "marker": {
                          "colorbar": {
                            "outlinewidth": 0,
                            "ticks": ""
                          }
                        },
                        "type": "scattermap"
                      }
                    ],
                    "scattermapbox": [
                      {
                        "marker": {
                          "colorbar": {
                            "outlinewidth": 0,
                            "ticks": ""
                          }
                        },
                        "type": "scattermapbox"
                      }
                    ],
                    "scatterpolar": [
                      {
                        "marker": {
                          "colorbar": {
                            "outlinewidth": 0,
                            "ticks": ""
                          }
                        },
                        "type": "scatterpolar"
                      }
                    ],
                    "scatterpolargl": [
                      {
                        "marker": {
                          "colorbar": {
                            "outlinewidth": 0,
                            "ticks": ""
                          }
                        },
                        "type": "scatterpolargl"
                      }
                    ],
                    "scatterternary": [
                      {
                        "marker": {
                          "colorbar": {
                            "outlinewidth": 0,
                            "ticks": ""
                          }
                        },
                        "type": "scatterternary"
                      }
                    ],
                    "surface": [
                      {
                        "colorbar": {
                          "outlinewidth": 0,
                          "ticks": ""
                        },
                        "colorscale": [
                          [
                            0,
                            "#0d0887"
                          ],
                          [
                            0.1111111111111111,
                            "#46039f"
                          ],
                          [
                            0.2222222222222222,
                            "#7201a8"
                          ],
                          [
                            0.3333333333333333,
                            "#9c179e"
                          ],
                          [
                            0.4444444444444444,
                            "#bd3786"
                          ],
                          [
                            0.5555555555555556,
                            "#d8576b"
                          ],
                          [
                            0.6666666666666666,
                            "#ed7953"
                          ],
                          [
                            0.7777777777777778,
                            "#fb9f3a"
                          ],
                          [
                            0.8888888888888888,
                            "#fdca26"
                          ],
                          [
                            1,
                            "#f0f921"
                          ]
                        ],
                        "type": "surface"
                      }
                    ],
                    "table": [
                      {
                        "cells": {
                          "fill": {
                            "color": "#EBF0F8"
                          },
                          "line": {
                            "color": "white"
                          }
                        },
                        "header": {
                          "fill": {
                            "color": "#C8D4E3"
                          },
                          "line": {
                            "color": "white"
                          }
                        },
                        "type": "table"
                      }
                    ]
                  },
                  "layout": {
                    "annotationdefaults": {
                      "arrowcolor": "#2a3f5f",
                      "arrowhead": 0,
                      "arrowwidth": 1
                    },
                    "autotypenumbers": "strict",
                    "coloraxis": {
                      "colorbar": {
                        "outlinewidth": 0,
                        "ticks": ""
                      }
                    },
                    "colorscale": {
                      "diverging": [
                        [
                          0,
                          "#8e0152"
                        ],
                        [
                          0.1,
                          "#c51b7d"
                        ],
                        [
                          0.2,
                          "#de77ae"
                        ],
                        [
                          0.3,
                          "#f1b6da"
                        ],
                        [
                          0.4,
                          "#fde0ef"
                        ],
                        [
                          0.5,
                          "#f7f7f7"
                        ],
                        [
                          0.6,
                          "#e6f5d0"
                        ],
                        [
                          0.7,
                          "#b8e186"
                        ],
                        [
                          0.8,
                          "#7fbc41"
                        ],
                        [
                          0.9,
                          "#4d9221"
                        ],
                        [
                          1,
                          "#276419"
                        ]
                      ],
                      "sequential": [
                        [
                          0,
                          "#0d0887"
                        ],
                        [
                          0.1111111111111111,
                          "#46039f"
                        ],
                        [
                          0.2222222222222222,
                          "#7201a8"
                        ],
                        [
                          0.3333333333333333,
                          "#9c179e"
                        ],
                        [
                          0.4444444444444444,
                          "#bd3786"
                        ],
                        [
                          0.5555555555555556,
                          "#d8576b"
                        ],
                        [
                          0.6666666666666666,
                          "#ed7953"
                        ],
                        [
                          0.7777777777777778,
                          "#fb9f3a"
                        ],
                        [
                          0.8888888888888888,
                          "#fdca26"
                        ],
                        [
                          1,
                          "#f0f921"
                        ]
                      ],
                      "sequentialminus": [
                        [
                          0,
                          "#0d0887"
                        ],
                        [
                          0.1111111111111111,
                          "#46039f"
                        ],
                        [
                          0.2222222222222222,
                          "#7201a8"
                        ],
                        [
                          0.3333333333333333,
                          "#9c179e"
                        ],
                        [
                          0.4444444444444444,
                          "#bd3786"
                        ],
                        [
                          0.5555555555555556,
                          "#d8576b"
                        ],
                        [
                          0.6666666666666666,
                          "#ed7953"
                        ],
                        [
                          0.7777777777777778,
                          "#fb9f3a"
                        ],
                        [
                          0.8888888888888888,
                          "#fdca26"
                        ],
                        [
                          1,
                          "#f0f921"
                        ]
                      ]
                    },
                    "colorway": [
                      "#636efa",
                      "#EF553B",
                      "#00cc96",
                      "#ab63fa",
                      "#FFA15A",
                      "#19d3f3",
                      "#FF6692",
                      "#B6E880",
                      "#FF97FF",
                      "#FECB52"
                    ],
                    "font": {
                      "color": "#2a3f5f"
                    },
                    "geo": {
                      "bgcolor": "white",
                      "lakecolor": "white",
                      "landcolor": "#E5ECF6",
                      "showlakes": true,
                      "showland": true,
                      "subunitcolor": "white"
                    },
                    "hoverlabel": {
                      "align": "left"
                    },
                    "hovermode": "closest",
                    "mapbox": {
                      "style": "light"
                    },
                    "paper_bgcolor": "white",
                    "plot_bgcolor": "#E5ECF6",
                    "polar": {
                      "angularaxis": {
                        "gridcolor": "white",
                        "linecolor": "white",
                        "ticks": ""
                      },
                      "bgcolor": "#E5ECF6",
                      "radialaxis": {
                        "gridcolor": "white",
                        "linecolor": "white",
                        "ticks": ""
                      }
                    },
                    "scene": {
                      "xaxis": {
                        "backgroundcolor": "#E5ECF6",
                        "gridcolor": "white",
                        "gridwidth": 2,
                        "linecolor": "white",
                        "showbackground": true,
                        "ticks": "",
                        "zerolinecolor": "white"
                      },
                      "yaxis": {
                        "backgroundcolor": "#E5ECF6",
                        "gridcolor": "white",
                        "gridwidth": 2,
                        "linecolor": "white",
                        "showbackground": true,
                        "ticks": "",
                        "zerolinecolor": "white"
                      },
                      "zaxis": {
                        "backgroundcolor": "#E5ECF6",
                        "gridcolor": "white",
                        "gridwidth": 2,
                        "linecolor": "white",
                        "showbackground": true,
                        "ticks": "",
                        "zerolinecolor": "white"
                      }
                    },
                    "shapedefaults": {
                      "line": {
                        "color": "#2a3f5f"
                      }
                    },
                    "ternary": {
                      "aaxis": {
                        "gridcolor": "white",
                        "linecolor": "white",
                        "ticks": ""
                      },
                      "baxis": {
                        "gridcolor": "white",
                        "linecolor": "white",
                        "ticks": ""
                      },
                      "bgcolor": "#E5ECF6",
                      "caxis": {
                        "gridcolor": "white",
                        "linecolor": "white",
                        "ticks": ""
                      }
                    },
                    "title": {
                      "x": 0.05
                    },
                    "xaxis": {
                      "automargin": true,
                      "gridcolor": "white",
                      "linecolor": "white",
                      "ticks": "",
                      "title": {
                        "standoff": 15
                      },
                      "zerolinecolor": "white",
                      "zerolinewidth": 2
                    },
                    "yaxis": {
                      "automargin": true,
                      "gridcolor": "white",
                      "linecolor": "white",
                      "ticks": "",
                      "title": {
                        "standoff": 15
                      },
                      "zerolinecolor": "white",
                      "zerolinewidth": 2
                    }
                  }
                },
                "xaxis": {
                  "anchor": "y",
                  "domain": [
                    0,
                    1
                  ],
                  "title": {
                    "text": "area_primer_piso"
                  }
                },
                "yaxis": {
                  "anchor": "x",
                  "domain": [
                    0,
                    1
                  ],
                  "title": {
                    "text": "precio_de_venta"
                  }
                }
              }
            }
          },
          "metadata": {},
          "output_type": "display_data"
        }
      ],
      "source": [
        "# Cuál es la recta que mejor se ajusta a esta relación\n",
        "px.scatter(datos,x='area_primer_piso',y='precio_de_venta',trendline_color_override='red',trendline='ols')"
      ]
    },
    {
      "cell_type": "markdown",
      "metadata": {
        "id": "4UrDseC82Y_F"
      },
      "source": [
        "# 2. Explicando la recta\n",
        "Ajustamos una recta entre los $m^2$ del primer piso y el precio de la casa. Queremos explicar el precio de la casa a partir de su tamaño, por eso decimos que:\n",
        "\n",
        "* Variable explicativa/independiente: Área del primer piso  \n",
        "* Variable de respuesta/dependiente: Precio de la casa  "
      ]
    },
    {
      "cell_type": "code",
      "execution_count": 47,
      "metadata": {
        "id": "PS2GnzlIVEML"
      },
      "outputs": [
        {
          "data": {
            "image/png": "[encoded data removed]",
            "text/plain": [
              "<Figure size 640x480 with 1 Axes>"
            ]
          },
          "metadata": {},
          "output_type": "display_data"
        }
      ],
      "source": [
        "#Quién es nuestra variable de respuesta?\n",
        "sns.histplot(datos['precio_de_venta'],kde=True,color='green')\n",
        "plt.title('Distribución del precio de venta de las casas')\n",
        "plt.show()"
      ]
    },
    {
      "cell_type": "markdown",
      "metadata": {
        "id": "6SdDRESQh2xo"
      },
      "source": [
        "### Separando datos para entrenamiento y para prueba\n",
        "\n",
        "El conjunto de **entrenamiento** se utiliza para ajustar el modelo, mientras que el conjunto de **prueba** se usa para evaluar su desempeño al predecir precios de viviendas no vistos durante el entrenamiento, lo que ayuda a la generalización del modelo."
      ]
    },
    {
      "cell_type": "code",
      "execution_count": 51,
      "metadata": {
        "id": "gHIRjm1AyIQ_"
      },
      "outputs": [],
      "source": [
        "# import train_test_split\n",
        "from sklearn.model_selection import train_test_split\n",
        "\n",
        "y = datos['precio_de_venta']\n",
        "X = datos.drop(columns='precio_de_venta')\n",
        "\n",
        "\n",
        "X_train, X_test, y_train, y_test = train_test_split(X,y,test_size=0.3,random_state=230)#garantizar la reproductividad de la segregación de los datos"
      ]
    },
    {
      "cell_type": "code",
      "execution_count": 52,
      "metadata": {
        "id": "VT6y54dix7lf"
      },
      "outputs": [],
      "source": [
        "#Datos de entrenamiento para usar la fórmula\n",
        "df_train = pd.DataFrame(X_train)\n",
        "df_train['precio_de_venta'] = y_train"
      ]
    },
    {
      "cell_type": "code",
      "execution_count": 54,
      "metadata": {
        "id": "kzuboWuxx-v_"
      },
      "outputs": [],
      "source": [
        "# import ols\n",
        "from statsmodels.formula.api import ols"
      ]
    },
    {
      "cell_type": "code",
      "execution_count": 55,
      "metadata": {
        "id": "9XvJ2peG4AzL"
      },
      "outputs": [],
      "source": [
        "# ajustando el primer modelo\n",
        "modelo_0 = ols('precio_de_venta ~ area_primer_piso',data=df_train).fit()"
      ]
    },
    {
      "cell_type": "markdown",
      "metadata": {
        "id": "BpehBvRj4j0B"
      },
      "source": [
        "## Analizando los coeficientes\n",
        "\n",
        "(intensidad, dirección y significancia)\n",
        "\n",
        "\n"
      ]
    },
    {
      "cell_type": "code",
      "execution_count": 17,
      "metadata": {
        "id": "TEs3lNVC2nxX"
      },
      "outputs": [],
      "source": [
        "# visualizando los parámetros\n"
      ]
    },
    {
      "cell_type": "code",
      "execution_count": 18,
      "metadata": {
        "id": "hq8rU6kZ2qAG"
      },
      "outputs": [],
      "source": [
        "# El resumen del modelo\n"
      ]
    },
    {
      "cell_type": "markdown",
      "metadata": {
        "id": "k_ZfkTOewmlW"
      },
      "source": [
        "- El **punto de intercepción** es el valor esperado del precio de la casa cuando todas las demás variables son cero. En este caso, cuando todas las demás variables, incluida el área del primer piso, son cero, el precio esperado de la casa es de $145.196,40. No siempre se tiene una interpretación práctica para este número.\n",
        "\n",
        "- El **efecto individual** del área es de \\$6.833,97. Esto indica que por cada metro cuadrado adicional al área del primer piso, se espera que el precio de la casa aumente en promedio \\$6.833,97.\n",
        "\n",
        "<img src=\"https://i.ibb.co/CJwfMgW/coeficientes.png\" alt=\"coeficientes\" border=\"0\">\n"
      ]
    },
    {
      "cell_type": "markdown",
      "metadata": {
        "id": "qlHuIXawggV1"
      },
      "source": [
        "## Explicabilidad del modelo\n",
        "\n",
        "**¿En qué medida la variación del área explica los diversos precios de las casas?**  \n",
        "\n",
        "En este caso, recurrimos a la métrica R², el coeficiente de determinación. El R² varía de 0 a 1, donde 1 indica un ajuste perfecto del modelo a los datos, es decir, todas las variaciones en la variable dependiente son explicadas por las variables independientes en el modelo. Por otro lado, un R² de 0 indica que el modelo no explica ninguna variabilidad en la variable dependiente."
      ]
    },
    {
      "cell_type": "code",
      "execution_count": 19,
      "metadata": {
        "id": "bCrpFxangFUf"
      },
      "outputs": [],
      "source": [
        "# observando el R²\n"
      ]
    },
    {
      "cell_type": "markdown",
      "metadata": {
        "id": "ja6mwxKuhCZR"
      },
      "source": [
        "## Entendiendo el resíduo"
      ]
    },
    {
      "cell_type": "code",
      "execution_count": 20,
      "metadata": {
        "id": "G-TWnRl-4hEn"
      },
      "outputs": [],
      "source": [
        "# Quiénes son los residuos?\n"
      ]
    },
    {
      "cell_type": "code",
      "execution_count": 21,
      "metadata": {
        "id": "bM91NMCMUb-G"
      },
      "outputs": [],
      "source": [
        "# Cómo están distribuidos\n"
      ]
    },
    {
      "cell_type": "markdown",
      "metadata": {
        "id": "aaPkf1ybjyxa"
      },
      "source": [
        "<img src=\"https://i.ibb.co/zGTB35V/residuos.png\" alt=\"residuos\" border=\"0\">"
      ]
    },
    {
      "cell_type": "markdown",
      "metadata": {
        "id": "dbETTlFihzJJ"
      },
      "source": [
        "## Obteniendo el R² de la previsión"
      ]
    },
    {
      "cell_type": "code",
      "execution_count": 22,
      "metadata": {
        "id": "nTwiYeIy4wVz"
      },
      "outputs": [],
      "source": [
        "# definiendo la 'Y' prevista\n"
      ]
    },
    {
      "cell_type": "code",
      "execution_count": 23,
      "metadata": {
        "id": "xdGQncIQ5DAF"
      },
      "outputs": [],
      "source": [
        "# importando el r2_score\n"
      ]
    },
    {
      "cell_type": "code",
      "execution_count": 24,
      "metadata": {
        "id": "llfmxm3vav7t"
      },
      "outputs": [],
      "source": [
        "# mostrando el resultado de r²\n"
      ]
    },
    {
      "cell_type": "markdown",
      "metadata": {
        "id": "KGi13v3IyylJ"
      },
      "source": [
        "# 3. Añadiendo otras características\n",
        "\n",
        "El modelo con un solo factor nos mostró un R² de 0.38, es decir, aproximadamente el 38% de la variación observada en los precios de las casas puede explicarse por la variación en el área.  \n",
        "Esto indica que aún existe una cantidad significativa de variación que no está siendo capturada por este modelo específico. Analizaremos otros factores para explicar el precio de las casas."
      ]
    },
    {
      "cell_type": "markdown",
      "metadata": {
        "id": "WeslSOrPWrQw"
      },
      "source": [
        "## Analizando los factores"
      ]
    },
    {
      "cell_type": "code",
      "execution_count": 25,
      "metadata": {
        "id": "FWE7AlEwCKgC"
      },
      "outputs": [],
      "source": [
        "# cuáles otras características podrían explicar el precio de los inmuebles?\n"
      ]
    },
    {
      "cell_type": "code",
      "execution_count": 26,
      "metadata": {
        "id": "gka8CJ3PWDFG"
      },
      "outputs": [],
      "source": [
        "#Vamos a analizar solamente y_vars='precio_de_venta'\n"
      ]
    },
    {
      "cell_type": "markdown",
      "metadata": {
        "id": "bVNYO4SCWxh5"
      },
      "source": [
        "## Añadiendo factores al modelo"
      ]
    },
    {
      "cell_type": "code",
      "execution_count": 27,
      "metadata": {
        "id": "xuVtu-Rgek8D"
      },
      "outputs": [],
      "source": [
        "# importando la api de statsmodels\n"
      ]
    },
    {
      "cell_type": "code",
      "execution_count": 28,
      "metadata": {
        "id": "_FE5frMQEsx8"
      },
      "outputs": [],
      "source": [
        "# Añadiendo una constante\n"
      ]
    },
    {
      "cell_type": "code",
      "execution_count": 29,
      "metadata": {
        "id": "ckQxxe5ISxZB"
      },
      "outputs": [],
      "source": [
        "# Creando el modelo de regresión (con todas las variables): saturado\n"
      ]
    },
    {
      "cell_type": "code",
      "execution_count": 30,
      "metadata": {
        "id": "fssPSTIERvQ1"
      },
      "outputs": [],
      "source": [
        "# Modelo sin el área del segundo piso\n"
      ]
    },
    {
      "cell_type": "code",
      "execution_count": 31,
      "metadata": {
        "id": "VA2ExIS6ReQg"
      },
      "outputs": [],
      "source": [
        "# Modelo sin la información del garage\n",
        "# Modelo sin el área del segundo piso\n"
      ]
    },
    {
      "cell_type": "code",
      "execution_count": 32,
      "metadata": {
        "id": "w6AjciTufCbF"
      },
      "outputs": [],
      "source": [
        "# Resumen del modelos\n"
      ]
    },
    {
      "cell_type": "code",
      "execution_count": null,
      "metadata": {
        "id": "wKaBPSzgJHvb"
      },
      "outputs": [],
      "source": []
    },
    {
      "cell_type": "markdown",
      "metadata": {
        "id": "J94_6l43r6Uq"
      },
      "source": [
        "## Comparando los modelos\n",
        "Cuál es el modelo?\n"
      ]
    },
    {
      "cell_type": "code",
      "execution_count": 33,
      "metadata": {
        "id": "v6lepZJAig3p"
      },
      "outputs": [],
      "source": [
        "# Cuántos parámetros tiene el modelo?\n"
      ]
    },
    {
      "cell_type": "markdown",
      "metadata": {
        "id": "T9mIZFbGi70G"
      },
      "source": [
        "# 4. Precificando las casas"
      ]
    },
    {
      "cell_type": "markdown",
      "metadata": {
        "id": "OafzmGZtCVc3"
      },
      "source": [
        "## Obteniendo el R² de la previsión"
      ]
    },
    {
      "cell_type": "code",
      "execution_count": 34,
      "metadata": {
        "id": "mC87-JGBkp2j"
      },
      "outputs": [],
      "source": [
        "# Añadiendo una constante en X_test\n"
      ]
    },
    {
      "cell_type": "code",
      "execution_count": 35,
      "metadata": {
        "id": "qqKdimX5kM3-"
      },
      "outputs": [],
      "source": [
        "# Previsión con el modelo 3\n"
      ]
    },
    {
      "cell_type": "code",
      "execution_count": 36,
      "metadata": {
        "id": "ADmo3-n8ld4D"
      },
      "outputs": [],
      "source": [
        "# Cuál es el r² de la previsión?\n"
      ]
    },
    {
      "cell_type": "code",
      "execution_count": 37,
      "metadata": {
        "id": "o5jXUBuhnpU4"
      },
      "outputs": [],
      "source": [
        "# Cuál es el R² del entrenamiento?\n"
      ]
    },
    {
      "cell_type": "markdown",
      "metadata": {
        "id": "bnAKaKVJtqLD"
      },
      "source": [
        "## Precificando una casa\n",
        "\n",
        "<img src=\"https://i.ibb.co/SvG4V4j/costo.png\" alt=\"costo\" border=\"0\">"
      ]
    },
    {
      "cell_type": "code",
      "execution_count": null,
      "metadata": {
        "id": "G2lIfTlFj3aY"
      },
      "outputs": [],
      "source": []
    },
    {
      "cell_type": "code",
      "execution_count": 38,
      "metadata": {
        "id": "yshOHurZkkR0"
      },
      "outputs": [],
      "source": [
        "#Nuevo inmueble\n"
      ]
    },
    {
      "cell_type": "code",
      "execution_count": 39,
      "metadata": {
        "id": "IYLwu7uKGDlx"
      },
      "outputs": [],
      "source": [
        "# Cuál es el precio del inmueble de acuerdo con el modelo 0?\n"
      ]
    },
    {
      "cell_type": "code",
      "execution_count": 40,
      "metadata": {
        "id": "v-au2Ae4GyJH"
      },
      "outputs": [],
      "source": [
        "#Cuál es el precio del inmueble de acuerdo con el modelo 3?\n"
      ]
    },
    {
      "cell_type": "code",
      "execution_count": null,
      "metadata": {
        "id": "7XCdN-ufkgy0"
      },
      "outputs": [],
      "source": []
    },
    {
      "cell_type": "markdown",
      "metadata": {
        "id": "NhfoS16EtxpH"
      },
      "source": [
        "## Precificando varias casas\n",
        "\n",
        "<img src=\"https://i.imgur.com/i0skFlB.jpeg\" width=\"600\"/>"
      ]
    },
    {
      "cell_type": "code",
      "execution_count": 41,
      "metadata": {
        "id": "d4bzNSLLYu35"
      },
      "outputs": [],
      "source": [
        "# Leyendo varias casas?\n"
      ]
    },
    {
      "cell_type": "code",
      "execution_count": null,
      "metadata": {
        "id": "a3fKRoblZYYZ"
      },
      "outputs": [],
      "source": []
    },
    {
      "cell_type": "code",
      "execution_count": 42,
      "metadata": {
        "id": "-irX-SIJH-vD"
      },
      "outputs": [],
      "source": [
        "# Añadiendo una constante\n"
      ]
    },
    {
      "cell_type": "code",
      "execution_count": 43,
      "metadata": {
        "id": "zb5dhjx72x0J"
      },
      "outputs": [],
      "source": [
        "# Cuál es el precio de estas nuevas casas?\n",
        "# precio_casas = pd.DataFrame()\n"
      ]
    },
    {
      "cell_type": "markdown",
      "metadata": {
        "id": "lOFOUylKt92e"
      },
      "source": [
        "# 5. Investigando el modelo\n",
        "\n",
        "\n",
        "\n"
      ]
    },
    {
      "cell_type": "markdown",
      "metadata": {
        "id": "k0xbnPMS8dYV"
      },
      "source": [
        "## Multicolinearidad\n",
        "\n",
        "Cuando dos o más cosas que estás intentando estudiar son tan parecidas que es difícil determinar cuánto está influyendo cada una de ellas en el resultado."
      ]
    },
    {
      "cell_type": "code",
      "execution_count": 44,
      "metadata": {
        "id": "aKIeiwRe0QK0"
      },
      "outputs": [],
      "source": [
        "# importar el VIF de statsmodel\n"
      ]
    },
    {
      "cell_type": "code",
      "execution_count": null,
      "metadata": {
        "id": "Tgo0TjBONGBe"
      },
      "outputs": [],
      "source": []
    },
    {
      "cell_type": "code",
      "execution_count": 45,
      "metadata": {
        "id": "ymryq_ETbsrs"
      },
      "outputs": [],
      "source": [
        "# VIF 1\n"
      ]
    },
    {
      "cell_type": "code",
      "execution_count": 46,
      "metadata": {
        "id": "O9NOvL_k0eAr"
      },
      "outputs": [],
      "source": [
        "# VIF 3\n"
      ]
    },
    {
      "cell_type": "markdown",
      "metadata": {
        "id": "hFr8CYMVyOiY"
      },
      "source": [
        "## Análisis de los residuos\n",
        "\n",
        "Residuos: la discrepancia entre los valores reales y los valores que el modelo predice para los mismos puntos de datos."
      ]
    },
    {
      "cell_type": "code",
      "execution_count": null,
      "metadata": {
        "id": "ahTiEz-0M8Yi"
      },
      "outputs": [],
      "source": []
    },
    {
      "cell_type": "code",
      "execution_count": null,
      "metadata": {
        "id": "a8vC2ZAfM_Le"
      },
      "outputs": [],
      "source": []
    },
    {
      "cell_type": "code",
      "execution_count": null,
      "metadata": {
        "id": "sV5WVni_M8H2"
      },
      "outputs": [],
      "source": []
    },
    {
      "cell_type": "markdown",
      "metadata": {
        "id": "pF72nKFGCg7N"
      },
      "source": [
        "<img src=\"https://i.ibb.co/9bmySbm/heterocedasticidad.png\" alt=\"heterocedasticidad\" border=\"0\">"
      ]
    }
  ],
  "metadata": {
    "colab": {
      "collapsed_sections": [
        "KGi13v3IyylJ",
        "T9mIZFbGi70G",
        "lOFOUylKt92e"
      ],
      "include_colab_link": true,
      "provenance": []
    },
    "kernelspec": {
      "display_name": "Python 3",
      "name": "python3"
    },
    "language_info": {
      "codemirror_mode": {
        "name": "ipython",
        "version": 3
      },
      "file_extension": ".py",
      "mimetype": "text/x-python",
      "name": "python",
      "nbconvert_exporter": "python",
      "pygments_lexer": "ipython3",
      "version": "3.10.8"
    }
  },
  "nbformat": 4,
  "nbformat_minor": 0
}
